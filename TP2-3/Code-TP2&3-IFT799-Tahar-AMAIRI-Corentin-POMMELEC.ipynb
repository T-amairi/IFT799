{
 "cells": [
  {
   "cell_type": "markdown",
   "metadata": {},
   "source": [
    "# TP2 & 3 : ABR (Tahar AMAIRI & Corentin POMMELEC)"
   ]
  },
  {
   "cell_type": "code",
   "execution_count": 1,
   "metadata": {},
   "outputs": [],
   "source": [
    "# import libs\n",
    "import matplotlib.pyplot as plt\n",
    "import seaborn as sns\n",
    "import pandas as pd\n",
    "import numpy as np"
   ]
  },
  {
   "cell_type": "markdown",
   "metadata": {},
   "source": [
    "## a.1) Prepare the data matrix X"
   ]
  },
  {
   "cell_type": "markdown",
   "metadata": {},
   "source": [
    "### Get the score matrix"
   ]
  },
  {
   "cell_type": "code",
   "execution_count": 2,
   "metadata": {},
   "outputs": [
    {
     "data": {
      "text/html": [
       "<div>\n",
       "<style scoped>\n",
       "    .dataframe tbody tr th:only-of-type {\n",
       "        vertical-align: middle;\n",
       "    }\n",
       "\n",
       "    .dataframe tbody tr th {\n",
       "        vertical-align: top;\n",
       "    }\n",
       "\n",
       "    .dataframe thead th {\n",
       "        text-align: right;\n",
       "    }\n",
       "</style>\n",
       "<table border=\"1\" class=\"dataframe\">\n",
       "  <thead>\n",
       "    <tr style=\"text-align: right;\">\n",
       "      <th></th>\n",
       "      <th>Ratings 1 ☆</th>\n",
       "      <th>Ratings 2 ☆</th>\n",
       "      <th>Ratings 3 ☆</th>\n",
       "      <th>Ratings 4 ☆</th>\n",
       "      <th>Ratings 5 ☆</th>\n",
       "    </tr>\n",
       "  </thead>\n",
       "  <tbody>\n",
       "    <tr>\n",
       "      <th>000100039X</th>\n",
       "      <td>6</td>\n",
       "      <td>4</td>\n",
       "      <td>8</td>\n",
       "      <td>15</td>\n",
       "      <td>173</td>\n",
       "    </tr>\n",
       "    <tr>\n",
       "      <th>0001055178</th>\n",
       "      <td>0</td>\n",
       "      <td>4</td>\n",
       "      <td>2</td>\n",
       "      <td>10</td>\n",
       "      <td>2</td>\n",
       "    </tr>\n",
       "    <tr>\n",
       "      <th>0001473123</th>\n",
       "      <td>1</td>\n",
       "      <td>0</td>\n",
       "      <td>0</td>\n",
       "      <td>2</td>\n",
       "      <td>13</td>\n",
       "    </tr>\n",
       "    <tr>\n",
       "      <th>0001473727</th>\n",
       "      <td>0</td>\n",
       "      <td>0</td>\n",
       "      <td>0</td>\n",
       "      <td>0</td>\n",
       "      <td>7</td>\n",
       "    </tr>\n",
       "    <tr>\n",
       "      <th>0001473905</th>\n",
       "      <td>0</td>\n",
       "      <td>0</td>\n",
       "      <td>1</td>\n",
       "      <td>0</td>\n",
       "      <td>5</td>\n",
       "    </tr>\n",
       "  </tbody>\n",
       "</table>\n",
       "</div>"
      ],
      "text/plain": [
       "            Ratings 1 ☆  Ratings 2 ☆  Ratings 3 ☆  Ratings 4 ☆  Ratings 5 ☆\n",
       "000100039X            6            4            8           15          173\n",
       "0001055178            0            4            2           10            2\n",
       "0001473123            1            0            0            2           13\n",
       "0001473727            0            0            0            0            7\n",
       "0001473905            0            0            1            0            5"
      ]
     },
     "execution_count": 2,
     "metadata": {},
     "output_type": "execute_result"
    }
   ],
   "source": [
    "# The JSON file is very big (~ 10 GB), so it will be loaded as chunks\n",
    "with pd.read_json('./Books.json', lines=True, chunksize=500000) as jsonChunks:\n",
    "    dfAll = pd.DataFrame() # data frame containing all the ratings\n",
    "    dfScore = pd.DataFrame() # data frame containing the score matrix\n",
    "    chunkLimit = 10 # amount of chucks to load and add to the data frame\n",
    "    \n",
    "    # read each chunk\n",
    "    for count, chunk in enumerate(jsonChunks):\n",
    "        if count >= chunkLimit: # break if the chunk limit is exceeded \n",
    "            break\n",
    "        \n",
    "        # temporary data frame to save the score matrix for the current chunk\n",
    "        dfScoreChunk = pd.DataFrame()\n",
    "        \n",
    "        # iterate over each score\n",
    "        for i in range(1,6):\n",
    "            # get the score matrix for the current \"i\" score\n",
    "            scoreChunk = chunk[chunk['overall'] == i].asin.value_counts().to_frame()\n",
    "            # concatenate to dfScoreChunk\n",
    "            dfScoreChunk = pd.concat([dfScoreChunk,scoreChunk], axis=1).fillna(0)\n",
    "        \n",
    "        dfAll = pd.concat([dfAll, chunk[['asin', 'overall']]], axis=0) # concatenate to the dfAll data frame\n",
    "        dfScore = dfScore.add(dfScoreChunk, fill_value=0) # sum up to the score df\n",
    "\n",
    "dfAll = dfAll.copy() # de-fragmented the data frame for better performance\n",
    "dfScore = dfScore.copy() # de-fragmented the data frame for better performance\n",
    "\n",
    "dfScore = dfScore.astype(int) # cast to int\n",
    "dfScore.columns = [\"Ratings {} ☆\".format(s) for s in range(1,6)] # set columns\n",
    "dfScore.head() # output the data frame"
   ]
  },
  {
   "cell_type": "markdown",
   "metadata": {},
   "source": [
    "### Compute each statistical metrics using the score matrix"
   ]
  },
  {
   "cell_type": "code",
   "execution_count": 3,
   "metadata": {},
   "outputs": [
    {
     "data": {
      "text/html": [
       "<div>\n",
       "<style scoped>\n",
       "    .dataframe tbody tr th:only-of-type {\n",
       "        vertical-align: middle;\n",
       "    }\n",
       "\n",
       "    .dataframe tbody tr th {\n",
       "        vertical-align: top;\n",
       "    }\n",
       "\n",
       "    .dataframe thead th {\n",
       "        text-align: right;\n",
       "    }\n",
       "</style>\n",
       "<table border=\"1\" class=\"dataframe\">\n",
       "  <thead>\n",
       "    <tr style=\"text-align: right;\">\n",
       "      <th></th>\n",
       "      <th>Average score</th>\n",
       "      <th>Std</th>\n",
       "      <th>Median</th>\n",
       "      <th>Number of excellent ratings</th>\n",
       "      <th>Number of medium ratings</th>\n",
       "      <th>Number of low ratings</th>\n",
       "      <th>Number of reviews</th>\n",
       "    </tr>\n",
       "  </thead>\n",
       "  <tbody>\n",
       "    <tr>\n",
       "      <th>0811216780</th>\n",
       "      <td>4.600000</td>\n",
       "      <td>0.489898</td>\n",
       "      <td>5.0</td>\n",
       "      <td>5</td>\n",
       "      <td>0</td>\n",
       "      <td>0</td>\n",
       "      <td>5</td>\n",
       "    </tr>\n",
       "    <tr>\n",
       "      <th>0452274141</th>\n",
       "      <td>4.421053</td>\n",
       "      <td>0.935599</td>\n",
       "      <td>5.0</td>\n",
       "      <td>17</td>\n",
       "      <td>0</td>\n",
       "      <td>2</td>\n",
       "      <td>19</td>\n",
       "    </tr>\n",
       "    <tr>\n",
       "      <th>068982002X</th>\n",
       "      <td>4.000000</td>\n",
       "      <td>1.137593</td>\n",
       "      <td>4.0</td>\n",
       "      <td>11</td>\n",
       "      <td>5</td>\n",
       "      <td>1</td>\n",
       "      <td>17</td>\n",
       "    </tr>\n",
       "    <tr>\n",
       "      <th>0615699006</th>\n",
       "      <td>4.666667</td>\n",
       "      <td>0.471405</td>\n",
       "      <td>5.0</td>\n",
       "      <td>12</td>\n",
       "      <td>0</td>\n",
       "      <td>0</td>\n",
       "      <td>12</td>\n",
       "    </tr>\n",
       "    <tr>\n",
       "      <th>0609605844</th>\n",
       "      <td>3.375000</td>\n",
       "      <td>1.218349</td>\n",
       "      <td>3.0</td>\n",
       "      <td>7</td>\n",
       "      <td>5</td>\n",
       "      <td>4</td>\n",
       "      <td>16</td>\n",
       "    </tr>\n",
       "  </tbody>\n",
       "</table>\n",
       "</div>"
      ],
      "text/plain": [
       "            Average score       Std  Median  Number of excellent ratings  \\\n",
       "0811216780       4.600000  0.489898     5.0                            5   \n",
       "0452274141       4.421053  0.935599     5.0                           17   \n",
       "068982002X       4.000000  1.137593     4.0                           11   \n",
       "0615699006       4.666667  0.471405     5.0                           12   \n",
       "0609605844       3.375000  1.218349     3.0                            7   \n",
       "\n",
       "            Number of medium ratings  Number of low ratings  Number of reviews  \n",
       "0811216780                         0                      0                  5  \n",
       "0452274141                         0                      2                 19  \n",
       "068982002X                         5                      1                 17  \n",
       "0615699006                         0                      0                 12  \n",
       "0609605844                         5                      4                 16  "
      ]
     },
     "execution_count": 3,
     "metadata": {},
     "output_type": "execute_result"
    }
   ],
   "source": [
    "# get statistical metrics matrix\n",
    "def getX(dfScore):\n",
    "    dfX = pd.DataFrame() # matrix X\n",
    "    score = np.arange(1,6,1) # the different scores from 1 to 5\n",
    "\n",
    "    # Get all the ratings for each books\n",
    "    ratingsByBooks = [np.repeat(score,dfScore.loc[index].to_numpy()) for index in dfScore.index]\n",
    "\n",
    "    # Compute each statistical metrics\n",
    "    dfX[\"Average score\"] = dfScore.dot(score) / dfScore.T.sum()\n",
    "    dfX[\"Std\"] = [np.std(ratings) for ratings in ratingsByBooks]\n",
    "    dfX[\"Median\"] = [np.median(ratings) for ratings in ratingsByBooks]\n",
    "    dfX[\"Number of excellent ratings\"] = dfScore[\"Ratings 5 ☆\"] + dfScore[\"Ratings 4 ☆\"]\n",
    "    dfX[\"Number of medium ratings\"] = dfScore[\"Ratings 3 ☆\"]\n",
    "    dfX[\"Number of low ratings\"] = dfScore[\"Ratings 1 ☆\"] + dfScore[\"Ratings 2 ☆\"]\n",
    "    dfX[\"Number of reviews\"] = dfScore.sum(axis=1)\n",
    "\n",
    "    return dfX\n",
    "\n",
    "# get the entirety of the score matrix as a metrics one\n",
    "dfXAll = getX(dfScore)\n",
    "\n",
    "# the number of books to be chosen randomly based on the minimum number of categories\n",
    "p = dfXAll.iloc[:,3:6].idxmax(axis=1).value_counts().min() * 3\n",
    "\n",
    "# output the chosen data frame\n",
    "dfX = dfXAll.sample(n=p, random_state=0)\n",
    "dfX.head()"
   ]
  },
  {
   "cell_type": "markdown",
   "metadata": {},
   "source": [
    "## a.2) K-means clustering"
   ]
  },
  {
   "cell_type": "code",
   "execution_count": 4,
   "metadata": {},
   "outputs": [],
   "source": [
    "from nltk.cluster import KMeansClusterer, euclidean_distance, cosine_distance\n",
    "from sklearn.preprocessing import StandardScaler\n",
    "from sklearn.cluster import kmeans_plusplus\n",
    "\n",
    "# convert to numpy matrix\n",
    "X = dfX.to_numpy()\n",
    "\n",
    "# Standardize \n",
    "scaler = StandardScaler()\n",
    "XStand = scaler.fit_transform(X)\n",
    "\n",
    "# return labels from a Kmeans clustering given k clusters and a distance\n",
    "def getKMeansLabels(X, k, distance):\n",
    "    # get initial centroids using kmeans++ method\n",
    "    centers = kmeans_plusplus(X, n_clusters=k, random_state=0)[0].tolist()\n",
    "    # kmeans\n",
    "    clusterer = KMeansClusterer(num_means=k, initial_means=centers, distance=distance)\n",
    "    # return labels\n",
    "    return clusterer.cluster(X, assign_clusters=True);\n",
    "\n",
    "# compute cosine similarity between two vectors\n",
    "def cosine_similarity(u, v):\n",
    "    return 1 - cosine_distance(u, v)\n",
    "    \n",
    "# kmeans with euclidean distance\n",
    "KMeansEuclideanLabels = getKMeansLabels(XStand, 3, euclidean_distance)\n",
    "\n",
    "# kmeans with cosine similarity\n",
    "KMeansCosineLabels = getKMeansLabels(XStand, 3, cosine_similarity)"
   ]
  },
  {
   "cell_type": "markdown",
   "metadata": {},
   "source": [
    "## a.3) Projection with PCA\n",
    "### Compute the PCA"
   ]
  },
  {
   "cell_type": "code",
   "execution_count": 5,
   "metadata": {},
   "outputs": [
    {
     "name": "stdout",
     "output_type": "stream",
     "text": [
      "The explained variance for each dimension : [0.50462694 0.33613477]\n"
     ]
    }
   ],
   "source": [
    "from sklearn.decomposition import PCA\n",
    "\n",
    "# compute the PCA and get the new projected data\n",
    "pca = PCA(n_components=2)\n",
    "XProj = pca.fit_transform(XStand)\n",
    "dfPCA = pd.DataFrame(XProj, columns=['x', 'y'], index=dfX.index)\n",
    "\n",
    "print(\"The explained variance for each dimension :\", pca.explained_variance_ratio_)"
   ]
  },
  {
   "cell_type": "markdown",
   "metadata": {},
   "source": [
    "### Plot"
   ]
  },
  {
   "cell_type": "code",
   "execution_count": 6,
   "metadata": {},
   "outputs": [
    {
     "data": {
      "image/png": "[encoded data removed]",
      "text/plain": [
       "<Figure size 1440x720 with 2 Axes>"
      ]
     },
     "metadata": {
      "needs_background": "light"
     },
     "output_type": "display_data"
    }
   ],
   "source": [
    "# Scatter plot of the clustering using PCA and the obtained labels\n",
    "def plotCluster(dfEuclidean, euclideanLabels, dfCosine, cosineLabels, method):\n",
    "    fig, (ax1, ax2) = plt.subplots(1,2, figsize=(20,10))\n",
    "\n",
    "    sns.scatterplot(data=dfEuclidean, x = \"x\", y = 'y', hue = euclideanLabels, palette = ['g', 'r', 'c'], ax=ax1)\n",
    "    ax1.set_title('Euclidean distance')\n",
    "\n",
    "    sns.scatterplot(data=dfCosine, x = \"x\", y = 'y', hue = cosineLabels, palette = ['g', 'r', 'c'], ax=ax2)\n",
    "    ax2.set_title('Cosine similarity')\n",
    "\n",
    "    plt.suptitle('{} clustering'.format(method))\n",
    "    plt.show()\n",
    "\n",
    "# plot\n",
    "plotCluster(dfPCA, KMeansEuclideanLabels, dfPCA, KMeansCosineLabels, 'KMeans')"
   ]
  },
  {
   "cell_type": "markdown",
   "metadata": {},
   "source": [
    "### Segmentation metrics"
   ]
  },
  {
   "cell_type": "code",
   "execution_count": 7,
   "metadata": {},
   "outputs": [
    {
     "name": "stdout",
     "output_type": "stream",
     "text": [
      "Metrics of k-means clustering, euclidean distance :\n"
     ]
    },
    {
     "data": {
      "text/html": [
       "<div>\n",
       "<style scoped>\n",
       "    .dataframe tbody tr th:only-of-type {\n",
       "        vertical-align: middle;\n",
       "    }\n",
       "\n",
       "    .dataframe tbody tr th {\n",
       "        vertical-align: top;\n",
       "    }\n",
       "\n",
       "    .dataframe thead th {\n",
       "        text-align: right;\n",
       "    }\n",
       "</style>\n",
       "<table border=\"1\" class=\"dataframe\">\n",
       "  <thead>\n",
       "    <tr style=\"text-align: right;\">\n",
       "      <th></th>\n",
       "      <th>Average score</th>\n",
       "      <th>Std</th>\n",
       "      <th>Median</th>\n",
       "      <th>Number of excellent ratings</th>\n",
       "      <th>Number of medium ratings</th>\n",
       "      <th>Number of low ratings</th>\n",
       "      <th>Number of reviews</th>\n",
       "      <th>Number of books</th>\n",
       "    </tr>\n",
       "    <tr>\n",
       "      <th>Cluster</th>\n",
       "      <th></th>\n",
       "      <th></th>\n",
       "      <th></th>\n",
       "      <th></th>\n",
       "      <th></th>\n",
       "      <th></th>\n",
       "      <th></th>\n",
       "      <th></th>\n",
       "    </tr>\n",
       "  </thead>\n",
       "  <tbody>\n",
       "    <tr>\n",
       "      <th>0</th>\n",
       "      <td>3.750892</td>\n",
       "      <td>1.166739</td>\n",
       "      <td>3.944616</td>\n",
       "      <td>7.0</td>\n",
       "      <td>2.0</td>\n",
       "      <td>2.0</td>\n",
       "      <td>12.0</td>\n",
       "      <td>2266</td>\n",
       "    </tr>\n",
       "    <tr>\n",
       "      <th>1</th>\n",
       "      <td>4.547449</td>\n",
       "      <td>0.678119</td>\n",
       "      <td>4.904132</td>\n",
       "      <td>10.0</td>\n",
       "      <td>1.0</td>\n",
       "      <td>0.0</td>\n",
       "      <td>11.0</td>\n",
       "      <td>3364</td>\n",
       "    </tr>\n",
       "    <tr>\n",
       "      <th>2</th>\n",
       "      <td>3.490709</td>\n",
       "      <td>1.461977</td>\n",
       "      <td>4.000000</td>\n",
       "      <td>2134.0</td>\n",
       "      <td>644.0</td>\n",
       "      <td>1043.0</td>\n",
       "      <td>3821.0</td>\n",
       "      <td>1</td>\n",
       "    </tr>\n",
       "  </tbody>\n",
       "</table>\n",
       "</div>"
      ],
      "text/plain": [
       "         Average score       Std    Median  Number of excellent ratings  \\\n",
       "Cluster                                                                   \n",
       "0             3.750892  1.166739  3.944616                          7.0   \n",
       "1             4.547449  0.678119  4.904132                         10.0   \n",
       "2             3.490709  1.461977  4.000000                       2134.0   \n",
       "\n",
       "         Number of medium ratings  Number of low ratings  Number of reviews  \\\n",
       "Cluster                                                                       \n",
       "0                             2.0                    2.0               12.0   \n",
       "1                             1.0                    0.0               11.0   \n",
       "2                           644.0                 1043.0             3821.0   \n",
       "\n",
       "         Number of books  \n",
       "Cluster                   \n",
       "0                   2266  \n",
       "1                   3364  \n",
       "2                      1  "
      ]
     },
     "metadata": {},
     "output_type": "display_data"
    },
    {
     "name": "stdout",
     "output_type": "stream",
     "text": [
      "Metrics of k-means clustering, cosine similarity :\n"
     ]
    },
    {
     "data": {
      "text/html": [
       "<div>\n",
       "<style scoped>\n",
       "    .dataframe tbody tr th:only-of-type {\n",
       "        vertical-align: middle;\n",
       "    }\n",
       "\n",
       "    .dataframe tbody tr th {\n",
       "        vertical-align: top;\n",
       "    }\n",
       "\n",
       "    .dataframe thead th {\n",
       "        text-align: right;\n",
       "    }\n",
       "</style>\n",
       "<table border=\"1\" class=\"dataframe\">\n",
       "  <thead>\n",
       "    <tr style=\"text-align: right;\">\n",
       "      <th></th>\n",
       "      <th>Average score</th>\n",
       "      <th>Std</th>\n",
       "      <th>Median</th>\n",
       "      <th>Number of excellent ratings</th>\n",
       "      <th>Number of medium ratings</th>\n",
       "      <th>Number of low ratings</th>\n",
       "      <th>Number of reviews</th>\n",
       "      <th>Number of books</th>\n",
       "    </tr>\n",
       "    <tr>\n",
       "      <th>Cluster</th>\n",
       "      <th></th>\n",
       "      <th></th>\n",
       "      <th></th>\n",
       "      <th></th>\n",
       "      <th></th>\n",
       "      <th></th>\n",
       "      <th></th>\n",
       "      <th></th>\n",
       "    </tr>\n",
       "  </thead>\n",
       "  <tbody>\n",
       "    <tr>\n",
       "      <th>0</th>\n",
       "      <td>3.787822</td>\n",
       "      <td>1.158522</td>\n",
       "      <td>4.021254</td>\n",
       "      <td>7.0</td>\n",
       "      <td>2.0</td>\n",
       "      <td>2.0</td>\n",
       "      <td>10.0</td>\n",
       "      <td>2376</td>\n",
       "    </tr>\n",
       "    <tr>\n",
       "      <th>1</th>\n",
       "      <td>4.599848</td>\n",
       "      <td>0.619901</td>\n",
       "      <td>4.934080</td>\n",
       "      <td>9.0</td>\n",
       "      <td>1.0</td>\n",
       "      <td>0.0</td>\n",
       "      <td>10.0</td>\n",
       "      <td>2814</td>\n",
       "    </tr>\n",
       "    <tr>\n",
       "      <th>2</th>\n",
       "      <td>4.210415</td>\n",
       "      <td>0.973779</td>\n",
       "      <td>4.537415</td>\n",
       "      <td>89.0</td>\n",
       "      <td>13.0</td>\n",
       "      <td>7.0</td>\n",
       "      <td>114.0</td>\n",
       "      <td>441</td>\n",
       "    </tr>\n",
       "  </tbody>\n",
       "</table>\n",
       "</div>"
      ],
      "text/plain": [
       "         Average score       Std    Median  Number of excellent ratings  \\\n",
       "Cluster                                                                   \n",
       "0             3.787822  1.158522  4.021254                          7.0   \n",
       "1             4.599848  0.619901  4.934080                          9.0   \n",
       "2             4.210415  0.973779  4.537415                         89.0   \n",
       "\n",
       "         Number of medium ratings  Number of low ratings  Number of reviews  \\\n",
       "Cluster                                                                       \n",
       "0                             2.0                    2.0               10.0   \n",
       "1                             1.0                    0.0               10.0   \n",
       "2                            13.0                    7.0              114.0   \n",
       "\n",
       "         Number of books  \n",
       "Cluster                   \n",
       "0                   2376  \n",
       "1                   2814  \n",
       "2                    441  "
      ]
     },
     "metadata": {},
     "output_type": "display_data"
    }
   ],
   "source": [
    "# Display the characteristics of each segmentation\n",
    "def displaySegmentationMetrics(dfX, labels):\n",
    "    dfX[\"Cluster\"] = labels\n",
    "    toDisplay = dfX.groupby(['Cluster']).median()\n",
    "    toDisplay[['Average score', 'Std', 'Median']] = dfX.groupby(['Cluster']).mean()[['Average score', 'Std', 'Median']]\n",
    "    toDisplay[\"Number of books\"] = dfX[\"Cluster\"].value_counts()\n",
    "    display(toDisplay)\n",
    "\n",
    "print(\"Metrics of k-means clustering, euclidean distance :\")\n",
    "displaySegmentationMetrics(dfX.copy(), KMeansEuclideanLabels)\n",
    "\n",
    "print(\"Metrics of k-means clustering, cosine similarity :\")\n",
    "displaySegmentationMetrics(dfX.copy(), KMeansCosineLabels)"
   ]
  },
  {
   "cell_type": "markdown",
   "metadata": {},
   "source": [
    "## a.4) Spectral clustering\n",
    "### Compute the spectral coordinates"
   ]
  },
  {
   "cell_type": "code",
   "execution_count": 8,
   "metadata": {},
   "outputs": [],
   "source": [
    "from sklearn.metrics import pairwise_distances\n",
    "\n",
    "# Get the new coordinates from a spectral projection\n",
    "def spectralProjection(X, metric):\n",
    "    # compute the distance matrix\n",
    "    M = pairwise_distances(X, metric=metric, n_jobs=-1)\n",
    "    \n",
    "    # cosine similarity\n",
    "    if(metric == 'cosine'):\n",
    "        M = 1 - M\n",
    "        \n",
    "    # compute eigenvalues and eigenvectors\n",
    "    eigVal, eigVec = np.linalg.eig(M) \n",
    "\n",
    "    # sort them by descending order\n",
    "    idx = np.argsort(eigVal)[::-1]\n",
    "    sortedEigVal = np.sort(eigVal)[::-1]\n",
    "    sortedEigVec = pd.DataFrame(eigVec)[idx]\n",
    "\n",
    "    # get the matrix P and D\n",
    "    numberPosEigVal = len(np.where(eigVal >= 0)[0]) # get only positive eigenvalues\n",
    "    D = np.identity(numberPosEigVal) * sortedEigVal[0:numberPosEigVal]\n",
    "    P = sortedEigVec.iloc[:,0:numberPosEigVal].to_numpy()\n",
    "\n",
    "    # return the new coordinates\n",
    "    return pd.DataFrame((P @ np.sqrt(D)).real)[[0,1]].to_numpy()\n",
    "\n",
    "# Get spectral coordinates\n",
    "euclideanSpectralCoord = spectralProjection(XStand, 'euclidean')\n",
    "cosineSpectralCoord = spectralProjection(XStand, 'cosine')"
   ]
  },
  {
   "cell_type": "markdown",
   "metadata": {},
   "source": [
    "### Clustering them using Kmeans"
   ]
  },
  {
   "cell_type": "code",
   "execution_count": 9,
   "metadata": {},
   "outputs": [],
   "source": [
    "# Spectral clustering with kmeans and euclidean distance\n",
    "spectralEuclideanLabels = getKMeansLabels(euclideanSpectralCoord, 3, euclidean_distance)\n",
    "\n",
    "# Spectral clustering with kmeans and cosine similarity\n",
    "spectralCosineLabels = getKMeansLabels(cosineSpectralCoord, 3, cosine_similarity)"
   ]
  },
  {
   "cell_type": "markdown",
   "metadata": {},
   "source": [
    "### Plot"
   ]
  },
  {
   "cell_type": "code",
   "execution_count": 10,
   "metadata": {},
   "outputs": [
    {
     "data": {
      "image/png": "[encoded data removed]",
      "text/plain": [
       "<Figure size 1440x720 with 2 Axes>"
      ]
     },
     "metadata": {
      "needs_background": "light"
     },
     "output_type": "display_data"
    }
   ],
   "source": [
    "# plot\n",
    "plotCluster(dfPCA, spectralEuclideanLabels, dfPCA, spectralCosineLabels, 'Spectral')"
   ]
  },
  {
   "cell_type": "markdown",
   "metadata": {},
   "source": [
    "### Segmentation metrics"
   ]
  },
  {
   "cell_type": "code",
   "execution_count": 11,
   "metadata": {},
   "outputs": [
    {
     "name": "stdout",
     "output_type": "stream",
     "text": [
      "Metrics of spectral clustering, euclidean distance :\n"
     ]
    },
    {
     "data": {
      "text/html": [
       "<div>\n",
       "<style scoped>\n",
       "    .dataframe tbody tr th:only-of-type {\n",
       "        vertical-align: middle;\n",
       "    }\n",
       "\n",
       "    .dataframe tbody tr th {\n",
       "        vertical-align: top;\n",
       "    }\n",
       "\n",
       "    .dataframe thead th {\n",
       "        text-align: right;\n",
       "    }\n",
       "</style>\n",
       "<table border=\"1\" class=\"dataframe\">\n",
       "  <thead>\n",
       "    <tr style=\"text-align: right;\">\n",
       "      <th></th>\n",
       "      <th>Average score</th>\n",
       "      <th>Std</th>\n",
       "      <th>Median</th>\n",
       "      <th>Number of excellent ratings</th>\n",
       "      <th>Number of medium ratings</th>\n",
       "      <th>Number of low ratings</th>\n",
       "      <th>Number of reviews</th>\n",
       "      <th>Number of books</th>\n",
       "    </tr>\n",
       "    <tr>\n",
       "      <th>Cluster</th>\n",
       "      <th></th>\n",
       "      <th></th>\n",
       "      <th></th>\n",
       "      <th></th>\n",
       "      <th></th>\n",
       "      <th></th>\n",
       "      <th></th>\n",
       "      <th></th>\n",
       "    </tr>\n",
       "  </thead>\n",
       "  <tbody>\n",
       "    <tr>\n",
       "      <th>0</th>\n",
       "      <td>4.226783</td>\n",
       "      <td>0.874751</td>\n",
       "      <td>4.518051</td>\n",
       "      <td>9.0</td>\n",
       "      <td>1.0</td>\n",
       "      <td>1.0</td>\n",
       "      <td>11.0</td>\n",
       "      <td>5623</td>\n",
       "    </tr>\n",
       "    <tr>\n",
       "      <th>1</th>\n",
       "      <td>4.276686</td>\n",
       "      <td>0.899434</td>\n",
       "      <td>4.428571</td>\n",
       "      <td>957.0</td>\n",
       "      <td>150.0</td>\n",
       "      <td>79.0</td>\n",
       "      <td>1142.0</td>\n",
       "      <td>7</td>\n",
       "    </tr>\n",
       "    <tr>\n",
       "      <th>2</th>\n",
       "      <td>3.490709</td>\n",
       "      <td>1.461977</td>\n",
       "      <td>4.000000</td>\n",
       "      <td>2134.0</td>\n",
       "      <td>644.0</td>\n",
       "      <td>1043.0</td>\n",
       "      <td>3821.0</td>\n",
       "      <td>1</td>\n",
       "    </tr>\n",
       "  </tbody>\n",
       "</table>\n",
       "</div>"
      ],
      "text/plain": [
       "         Average score       Std    Median  Number of excellent ratings  \\\n",
       "Cluster                                                                   \n",
       "0             4.226783  0.874751  4.518051                          9.0   \n",
       "1             4.276686  0.899434  4.428571                        957.0   \n",
       "2             3.490709  1.461977  4.000000                       2134.0   \n",
       "\n",
       "         Number of medium ratings  Number of low ratings  Number of reviews  \\\n",
       "Cluster                                                                       \n",
       "0                             1.0                    1.0               11.0   \n",
       "1                           150.0                   79.0             1142.0   \n",
       "2                           644.0                 1043.0             3821.0   \n",
       "\n",
       "         Number of books  \n",
       "Cluster                   \n",
       "0                   5623  \n",
       "1                      7  \n",
       "2                      1  "
      ]
     },
     "metadata": {},
     "output_type": "display_data"
    },
    {
     "name": "stdout",
     "output_type": "stream",
     "text": [
      "Metrics of spectral clustering, cosine similarity :\n"
     ]
    },
    {
     "data": {
      "text/html": [
       "<div>\n",
       "<style scoped>\n",
       "    .dataframe tbody tr th:only-of-type {\n",
       "        vertical-align: middle;\n",
       "    }\n",
       "\n",
       "    .dataframe tbody tr th {\n",
       "        vertical-align: top;\n",
       "    }\n",
       "\n",
       "    .dataframe thead th {\n",
       "        text-align: right;\n",
       "    }\n",
       "</style>\n",
       "<table border=\"1\" class=\"dataframe\">\n",
       "  <thead>\n",
       "    <tr style=\"text-align: right;\">\n",
       "      <th></th>\n",
       "      <th>Average score</th>\n",
       "      <th>Std</th>\n",
       "      <th>Median</th>\n",
       "      <th>Number of excellent ratings</th>\n",
       "      <th>Number of medium ratings</th>\n",
       "      <th>Number of low ratings</th>\n",
       "      <th>Number of reviews</th>\n",
       "      <th>Number of books</th>\n",
       "    </tr>\n",
       "    <tr>\n",
       "      <th>Cluster</th>\n",
       "      <th></th>\n",
       "      <th></th>\n",
       "      <th></th>\n",
       "      <th></th>\n",
       "      <th></th>\n",
       "      <th></th>\n",
       "      <th></th>\n",
       "      <th></th>\n",
       "    </tr>\n",
       "  </thead>\n",
       "  <tbody>\n",
       "    <tr>\n",
       "      <th>0</th>\n",
       "      <td>3.760241</td>\n",
       "      <td>1.265320</td>\n",
       "      <td>4.101472</td>\n",
       "      <td>8.0</td>\n",
       "      <td>2.0</td>\n",
       "      <td>2.0</td>\n",
       "      <td>13.0</td>\n",
       "      <td>1902</td>\n",
       "    </tr>\n",
       "    <tr>\n",
       "      <th>1</th>\n",
       "      <td>4.594602</td>\n",
       "      <td>0.649958</td>\n",
       "      <td>4.977499</td>\n",
       "      <td>10.0</td>\n",
       "      <td>1.0</td>\n",
       "      <td>0.0</td>\n",
       "      <td>11.0</td>\n",
       "      <td>2911</td>\n",
       "    </tr>\n",
       "    <tr>\n",
       "      <th>2</th>\n",
       "      <td>4.002156</td>\n",
       "      <td>0.767505</td>\n",
       "      <td>3.850244</td>\n",
       "      <td>7.0</td>\n",
       "      <td>2.0</td>\n",
       "      <td>0.0</td>\n",
       "      <td>9.0</td>\n",
       "      <td>818</td>\n",
       "    </tr>\n",
       "  </tbody>\n",
       "</table>\n",
       "</div>"
      ],
      "text/plain": [
       "         Average score       Std    Median  Number of excellent ratings  \\\n",
       "Cluster                                                                   \n",
       "0             3.760241  1.265320  4.101472                          8.0   \n",
       "1             4.594602  0.649958  4.977499                         10.0   \n",
       "2             4.002156  0.767505  3.850244                          7.0   \n",
       "\n",
       "         Number of medium ratings  Number of low ratings  Number of reviews  \\\n",
       "Cluster                                                                       \n",
       "0                             2.0                    2.0               13.0   \n",
       "1                             1.0                    0.0               11.0   \n",
       "2                             2.0                    0.0                9.0   \n",
       "\n",
       "         Number of books  \n",
       "Cluster                   \n",
       "0                   1902  \n",
       "1                   2911  \n",
       "2                    818  "
      ]
     },
     "metadata": {},
     "output_type": "display_data"
    }
   ],
   "source": [
    "print(\"Metrics of spectral clustering, euclidean distance :\")\n",
    "displaySegmentationMetrics(dfX.copy(), spectralEuclideanLabels)\n",
    "\n",
    "print(\"Metrics of spectral clustering, cosine similarity :\")\n",
    "displaySegmentationMetrics(dfX.copy(), spectralCosineLabels)"
   ]
  },
  {
   "cell_type": "markdown",
   "metadata": {},
   "source": [
    "## a.5) Clustering performance evaluation\n",
    "### Silhouette score"
   ]
  },
  {
   "cell_type": "code",
   "execution_count": 12,
   "metadata": {},
   "outputs": [
    {
     "name": "stdout",
     "output_type": "stream",
     "text": [
      "Silhouette score:\n"
     ]
    },
    {
     "data": {
      "text/html": [
       "<style type=\"text/css\">\n",
       "</style>\n",
       "<table id=\"T_a2d4e\">\n",
       "  <thead>\n",
       "    <tr>\n",
       "      <th class=\"blank level0\" >&nbsp;</th>\n",
       "      <th id=\"T_a2d4e_level0_col0\" class=\"col_heading level0 col0\" >Euclidean</th>\n",
       "      <th id=\"T_a2d4e_level0_col1\" class=\"col_heading level0 col1\" >Cosine</th>\n",
       "    </tr>\n",
       "  </thead>\n",
       "  <tbody>\n",
       "    <tr>\n",
       "      <th id=\"T_a2d4e_level0_row0\" class=\"row_heading level0 row0\" >KMeans</th>\n",
       "      <td id=\"T_a2d4e_row0_col0\" class=\"data row0 col0\" >0.396651</td>\n",
       "      <td id=\"T_a2d4e_row0_col1\" class=\"data row0 col1\" >0.588616</td>\n",
       "    </tr>\n",
       "    <tr>\n",
       "      <th id=\"T_a2d4e_level0_row1\" class=\"row_heading level0 row1\" >Spectral</th>\n",
       "      <td id=\"T_a2d4e_row1_col0\" class=\"data row1 col0\" >0.970752</td>\n",
       "      <td id=\"T_a2d4e_row1_col1\" class=\"data row1 col1\" >0.647177</td>\n",
       "    </tr>\n",
       "  </tbody>\n",
       "</table>\n"
      ],
      "text/plain": [
       "<pandas.io.formats.style.Styler at 0x20324d34ac0>"
      ]
     },
     "execution_count": 12,
     "metadata": {},
     "output_type": "execute_result"
    }
   ],
   "source": [
    "from sklearn.metrics import silhouette_score\n",
    "\n",
    "# get the silhouette score\n",
    "def getSilhouetteScore(XList, KMeansEuclideanLabels, KMeansCosineLabels, spectralEuclideanLabels, spectralCosineLabels):\n",
    "    # KMeans\n",
    "    KMeansEuclideanSilhouette = silhouette_score(XList[0], KMeansEuclideanLabels, metric='euclidean')\n",
    "    KMeansCosineSilhouette = silhouette_score(XList[1], KMeansCosineLabels, metric='cosine')\n",
    "\n",
    "    # Spectral clustering\n",
    "    spectralEuclideanSilhouette = silhouette_score(XList[2], spectralEuclideanLabels, metric='euclidean')\n",
    "    spectralCosineSilhouette = silhouette_score(XList[3], spectralCosineLabels, metric='cosine')\n",
    "\n",
    "    # return a data frame containing the scores\n",
    "    silhouetteScores = [[KMeansEuclideanSilhouette, KMeansCosineSilhouette], [spectralEuclideanSilhouette, spectralCosineSilhouette]]\n",
    "    return pd.DataFrame(silhouetteScores, index=['KMeans', 'Spectral'], columns=['Euclidean', 'Cosine'])\n",
    "\n",
    "# compute silhouette score\n",
    "XList = [XStand, XStand, euclideanSpectralCoord, cosineSpectralCoord]\n",
    "silhouetteScoreTable = getSilhouetteScore(XList, KMeansEuclideanLabels, KMeansCosineLabels, \n",
    "                                                 spectralEuclideanLabels, spectralCosineLabels)\n",
    "print(\"Silhouette score:\")\n",
    "silhouetteScoreTable.style"
   ]
  },
  {
   "cell_type": "markdown",
   "metadata": {},
   "source": [
    "### Mutual Information\n",
    "#### Getting the knowledge of the ground truth classes"
   ]
  },
  {
   "cell_type": "code",
   "execution_count": 13,
   "metadata": {},
   "outputs": [],
   "source": [
    "# get the true labels based on the bayesian average\n",
    "def getTrueLabels(dfX, C, m, a, b):\n",
    "    # Compute Bayesian average score : https://fulmicoton.com/posts/bayesian_rating/\n",
    "    bayesianScore = (C*m + dfX['Average score'] * dfX['Number of reviews']) / (C + dfX['Number of reviews'])\n",
    "\n",
    "    # build the true labels based on the bayesian average score\n",
    "    trueLabels = bayesianScore.to_numpy()\n",
    "    trueLabels[(trueLabels >= 0.0) & (trueLabels < b)] = -1\n",
    "    trueLabels[(trueLabels >= b) & (trueLabels <= a)] = -2\n",
    "    trueLabels[trueLabels > a] = -3\n",
    "\n",
    "    return trueLabels * -1\n",
    "\n",
    "# bayesian settings\n",
    "C = 20 # based on TP1\n",
    "m = 4.0 # based on TP1\n",
    "\n",
    "# interval setting to classify a book (same values as in TP1)\n",
    "a = 4.0 # upper limit\n",
    "b = 3.5 # lower limit\n",
    "\n",
    "# get labels\n",
    "trueLabels = getTrueLabels(dfX, C, m, a, b)"
   ]
  },
  {
   "cell_type": "markdown",
   "metadata": {},
   "source": [
    "#### Computing the mutual information"
   ]
  },
  {
   "cell_type": "code",
   "execution_count": 14,
   "metadata": {},
   "outputs": [
    {
     "name": "stdout",
     "output_type": "stream",
     "text": [
      "Normalized Mutual Information:\n"
     ]
    },
    {
     "data": {
      "text/html": [
       "<style type=\"text/css\">\n",
       "</style>\n",
       "<table id=\"T_f246f\">\n",
       "  <thead>\n",
       "    <tr>\n",
       "      <th class=\"blank level0\" >&nbsp;</th>\n",
       "      <th id=\"T_f246f_level0_col0\" class=\"col_heading level0 col0\" >Euclidean</th>\n",
       "      <th id=\"T_f246f_level0_col1\" class=\"col_heading level0 col1\" >Cosine</th>\n",
       "    </tr>\n",
       "  </thead>\n",
       "  <tbody>\n",
       "    <tr>\n",
       "      <th id=\"T_f246f_level0_row0\" class=\"row_heading level0 row0\" >KMeans</th>\n",
       "      <td id=\"T_f246f_row0_col0\" class=\"data row0 col0\" >0.550187</td>\n",
       "      <td id=\"T_f246f_row0_col1\" class=\"data row0 col1\" >0.390297</td>\n",
       "    </tr>\n",
       "    <tr>\n",
       "      <th id=\"T_f246f_level0_row1\" class=\"row_heading level0 row1\" >Spectral</th>\n",
       "      <td id=\"T_f246f_row1_col0\" class=\"data row1 col0\" >0.002638</td>\n",
       "      <td id=\"T_f246f_row1_col1\" class=\"data row1 col1\" >0.377949</td>\n",
       "    </tr>\n",
       "  </tbody>\n",
       "</table>\n"
      ],
      "text/plain": [
       "<pandas.io.formats.style.Styler at 0x2033c3d9e20>"
      ]
     },
     "execution_count": 14,
     "metadata": {},
     "output_type": "execute_result"
    }
   ],
   "source": [
    "from sklearn.metrics import normalized_mutual_info_score\n",
    "\n",
    "# get the normalized mutual information (NMI)\n",
    "def getNMI(trueLabels, KMeansEuclideanLabels, KMeansCosineLabels, spectralEuclideanLabels, spectralCosineLabels):\n",
    "    # KMeans\n",
    "    KMeansEuclideanNMI = normalized_mutual_info_score(trueLabels, KMeansEuclideanLabels)\n",
    "    KMeansCosineNMI = normalized_mutual_info_score(trueLabels, KMeansCosineLabels)\n",
    "\n",
    "    # Spectral clustering\n",
    "    spectralEuclideanNMI = normalized_mutual_info_score(trueLabels, spectralEuclideanLabels)\n",
    "    spectralCosineNMI = normalized_mutual_info_score(trueLabels, spectralCosineLabels)\n",
    "\n",
    "    # return a data frame containing the NMIs\n",
    "    NMI = [[KMeansEuclideanNMI, KMeansCosineNMI], [spectralEuclideanNMI, spectralCosineNMI]]\n",
    "    return pd.DataFrame(NMI, index=['KMeans', 'Spectral'], columns=['Euclidean', 'Cosine'])\n",
    "\n",
    "# compute NMI\n",
    "NMITable = getNMI(trueLabels, KMeansEuclideanLabels, KMeansCosineLabels, \n",
    "                              spectralEuclideanLabels, spectralCosineLabels)\n",
    "print(\"Normalized Mutual Information:\")\n",
    "NMITable.style"
   ]
  },
  {
   "cell_type": "markdown",
   "metadata": {},
   "source": [
    "## b.2) Stratified dataset"
   ]
  },
  {
   "cell_type": "code",
   "execution_count": 15,
   "metadata": {},
   "outputs": [
    {
     "data": {
      "text/html": [
       "<div>\n",
       "<style scoped>\n",
       "    .dataframe tbody tr th:only-of-type {\n",
       "        vertical-align: middle;\n",
       "    }\n",
       "\n",
       "    .dataframe tbody tr th {\n",
       "        vertical-align: top;\n",
       "    }\n",
       "\n",
       "    .dataframe thead th {\n",
       "        text-align: right;\n",
       "    }\n",
       "</style>\n",
       "<table border=\"1\" class=\"dataframe\">\n",
       "  <thead>\n",
       "    <tr style=\"text-align: right;\">\n",
       "      <th></th>\n",
       "      <th>Average score</th>\n",
       "      <th>Std</th>\n",
       "      <th>Median</th>\n",
       "      <th>Number of excellent ratings</th>\n",
       "      <th>Number of medium ratings</th>\n",
       "      <th>Number of low ratings</th>\n",
       "      <th>Number of reviews</th>\n",
       "    </tr>\n",
       "  </thead>\n",
       "  <tbody>\n",
       "    <tr>\n",
       "      <th>0028629043</th>\n",
       "      <td>4.700000</td>\n",
       "      <td>0.640312</td>\n",
       "      <td>5.0</td>\n",
       "      <td>9</td>\n",
       "      <td>1</td>\n",
       "      <td>0</td>\n",
       "      <td>10</td>\n",
       "    </tr>\n",
       "    <tr>\n",
       "      <th>0385527519</th>\n",
       "      <td>3.769697</td>\n",
       "      <td>1.178722</td>\n",
       "      <td>4.0</td>\n",
       "      <td>106</td>\n",
       "      <td>36</td>\n",
       "      <td>23</td>\n",
       "      <td>165</td>\n",
       "    </tr>\n",
       "    <tr>\n",
       "      <th>0142000310</th>\n",
       "      <td>3.125000</td>\n",
       "      <td>1.268611</td>\n",
       "      <td>3.5</td>\n",
       "      <td>4</td>\n",
       "      <td>1</td>\n",
       "      <td>3</td>\n",
       "      <td>8</td>\n",
       "    </tr>\n",
       "    <tr>\n",
       "      <th>0801026806</th>\n",
       "      <td>4.333333</td>\n",
       "      <td>0.942809</td>\n",
       "      <td>5.0</td>\n",
       "      <td>4</td>\n",
       "      <td>2</td>\n",
       "      <td>0</td>\n",
       "      <td>6</td>\n",
       "    </tr>\n",
       "    <tr>\n",
       "      <th>0374399107</th>\n",
       "      <td>3.909091</td>\n",
       "      <td>1.083307</td>\n",
       "      <td>4.0</td>\n",
       "      <td>9</td>\n",
       "      <td>1</td>\n",
       "      <td>1</td>\n",
       "      <td>11</td>\n",
       "    </tr>\n",
       "  </tbody>\n",
       "</table>\n",
       "</div>"
      ],
      "text/plain": [
       "            Average score       Std  Median  Number of excellent ratings  \\\n",
       "0028629043       4.700000  0.640312     5.0                            9   \n",
       "0385527519       3.769697  1.178722     4.0                          106   \n",
       "0142000310       3.125000  1.268611     3.5                            4   \n",
       "0801026806       4.333333  0.942809     5.0                            4   \n",
       "0374399107       3.909091  1.083307     4.0                            9   \n",
       "\n",
       "            Number of medium ratings  Number of low ratings  Number of reviews  \n",
       "0028629043                         1                      0                 10  \n",
       "0385527519                        36                     23                165  \n",
       "0142000310                         1                      3                  8  \n",
       "0801026806                         2                      0                  6  \n",
       "0374399107                         1                      1                 11  "
      ]
     },
     "execution_count": 15,
     "metadata": {},
     "output_type": "execute_result"
    }
   ],
   "source": [
    "# get the categories data frame\n",
    "dfCategories = dfXAll.copy()\n",
    "dfCategories['Categories'] = dfXAll.iloc[:,3:6].idxmax(axis=1).values\n",
    "\n",
    "categories = dfXAll.iloc[:,3:6].columns.to_list() # categories\n",
    "n = dfXAll.iloc[:,3:6].idxmax(axis=1).value_counts().min() # number of samples for each categories\n",
    "\n",
    "# get stratified statistical metrics matrix\n",
    "dfXStratified = pd.DataFrame()\n",
    "\n",
    "for cat in categories:\n",
    "    categorieSample = dfCategories[dfCategories['Categories'] == cat].sample(n=n, random_state=0)\n",
    "    dfXStratified = pd.concat([dfXStratified, categorieSample.iloc[:,:-1]], axis=0)\n",
    "\n",
    "# assert if the data frame is actually stratified\n",
    "assert(dfXStratified.iloc[:,3:6].idxmax(axis=1).value_counts().sum() == p)\n",
    "\n",
    "# output the data frame\n",
    "dfXStratified.head()"
   ]
  },
  {
   "cell_type": "markdown",
   "metadata": {},
   "source": [
    "## b.3) Clustering with stratified dataset\n",
    "### a.2) KMeans clustering"
   ]
  },
  {
   "cell_type": "code",
   "execution_count": 16,
   "metadata": {},
   "outputs": [],
   "source": [
    "# convert to numpy matrix\n",
    "XStratified = dfXStratified.to_numpy()\n",
    "\n",
    "# Standardize\n",
    "XStandStrat = scaler.fit_transform(XStratified)\n",
    "\n",
    "# kmeans with euclidean distance\n",
    "KMeansEuclideanLabelsStrat = getKMeansLabels(XStandStrat, 3, euclidean_distance)\n",
    "\n",
    "# kmeans with cosine similarity\n",
    "KMeansCosineLabelsStrat = getKMeansLabels(XStandStrat, 3, cosine_similarity)"
   ]
  },
  {
   "cell_type": "markdown",
   "metadata": {},
   "source": [
    "### a.3) PCA plotting"
   ]
  },
  {
   "cell_type": "code",
   "execution_count": 17,
   "metadata": {},
   "outputs": [
    {
     "name": "stdout",
     "output_type": "stream",
     "text": [
      "The explained variance for each dimension : [0.47236577 0.34372357]\n"
     ]
    }
   ],
   "source": [
    "# compute PCA\n",
    "XProjStrat = pca.fit_transform(XStandStrat)\n",
    "dfPCAStrat = pd.DataFrame(XProjStrat, columns=['x', 'y'], index=dfXStratified.index)\n",
    "\n",
    "print(\"The explained variance for each dimension :\", pca.explained_variance_ratio_)"
   ]
  },
  {
   "cell_type": "code",
   "execution_count": 18,
   "metadata": {},
   "outputs": [
    {
     "data": {
      "image/png": "[encoded data removed]",
      "text/plain": [
       "<Figure size 1440x720 with 2 Axes>"
      ]
     },
     "metadata": {
      "needs_background": "light"
     },
     "output_type": "display_data"
    }
   ],
   "source": [
    "# plot\n",
    "plotCluster(dfPCAStrat, KMeansEuclideanLabelsStrat, dfPCAStrat, KMeansCosineLabelsStrat, 'KMeans')"
   ]
  },
  {
   "cell_type": "code",
   "execution_count": 19,
   "metadata": {},
   "outputs": [
    {
     "name": "stdout",
     "output_type": "stream",
     "text": [
      "Metrics of k-means clustering, euclidean distance :\n"
     ]
    },
    {
     "data": {
      "text/html": [
       "<div>\n",
       "<style scoped>\n",
       "    .dataframe tbody tr th:only-of-type {\n",
       "        vertical-align: middle;\n",
       "    }\n",
       "\n",
       "    .dataframe tbody tr th {\n",
       "        vertical-align: top;\n",
       "    }\n",
       "\n",
       "    .dataframe thead th {\n",
       "        text-align: right;\n",
       "    }\n",
       "</style>\n",
       "<table border=\"1\" class=\"dataframe\">\n",
       "  <thead>\n",
       "    <tr style=\"text-align: right;\">\n",
       "      <th></th>\n",
       "      <th>Average score</th>\n",
       "      <th>Std</th>\n",
       "      <th>Median</th>\n",
       "      <th>Number of excellent ratings</th>\n",
       "      <th>Number of medium ratings</th>\n",
       "      <th>Number of low ratings</th>\n",
       "      <th>Number of reviews</th>\n",
       "      <th>Number of books</th>\n",
       "    </tr>\n",
       "    <tr>\n",
       "      <th>Cluster</th>\n",
       "      <th></th>\n",
       "      <th></th>\n",
       "      <th></th>\n",
       "      <th></th>\n",
       "      <th></th>\n",
       "      <th></th>\n",
       "      <th></th>\n",
       "      <th></th>\n",
       "    </tr>\n",
       "  </thead>\n",
       "  <tbody>\n",
       "    <tr>\n",
       "      <th>0</th>\n",
       "      <td>4.186082</td>\n",
       "      <td>0.800031</td>\n",
       "      <td>4.303709</td>\n",
       "      <td>7.0</td>\n",
       "      <td>2.0</td>\n",
       "      <td>0.0</td>\n",
       "      <td>9.0</td>\n",
       "      <td>2211</td>\n",
       "    </tr>\n",
       "    <tr>\n",
       "      <th>1</th>\n",
       "      <td>2.419686</td>\n",
       "      <td>1.583406</td>\n",
       "      <td>2.000000</td>\n",
       "      <td>990.0</td>\n",
       "      <td>350.0</td>\n",
       "      <td>2165.0</td>\n",
       "      <td>3505.0</td>\n",
       "      <td>1</td>\n",
       "    </tr>\n",
       "    <tr>\n",
       "      <th>2</th>\n",
       "      <td>2.784078</td>\n",
       "      <td>1.233324</td>\n",
       "      <td>2.551185</td>\n",
       "      <td>2.0</td>\n",
       "      <td>3.0</td>\n",
       "      <td>3.0</td>\n",
       "      <td>8.0</td>\n",
       "      <td>3419</td>\n",
       "    </tr>\n",
       "  </tbody>\n",
       "</table>\n",
       "</div>"
      ],
      "text/plain": [
       "         Average score       Std    Median  Number of excellent ratings  \\\n",
       "Cluster                                                                   \n",
       "0             4.186082  0.800031  4.303709                          7.0   \n",
       "1             2.419686  1.583406  2.000000                        990.0   \n",
       "2             2.784078  1.233324  2.551185                          2.0   \n",
       "\n",
       "         Number of medium ratings  Number of low ratings  Number of reviews  \\\n",
       "Cluster                                                                       \n",
       "0                             2.0                    0.0                9.0   \n",
       "1                           350.0                 2165.0             3505.0   \n",
       "2                             3.0                    3.0                8.0   \n",
       "\n",
       "         Number of books  \n",
       "Cluster                   \n",
       "0                   2211  \n",
       "1                      1  \n",
       "2                   3419  "
      ]
     },
     "metadata": {},
     "output_type": "display_data"
    },
    {
     "name": "stdout",
     "output_type": "stream",
     "text": [
      "Metrics of k-means clustering, cosine similarity :\n"
     ]
    },
    {
     "data": {
      "text/html": [
       "<div>\n",
       "<style scoped>\n",
       "    .dataframe tbody tr th:only-of-type {\n",
       "        vertical-align: middle;\n",
       "    }\n",
       "\n",
       "    .dataframe tbody tr th {\n",
       "        vertical-align: top;\n",
       "    }\n",
       "\n",
       "    .dataframe thead th {\n",
       "        text-align: right;\n",
       "    }\n",
       "</style>\n",
       "<table border=\"1\" class=\"dataframe\">\n",
       "  <thead>\n",
       "    <tr style=\"text-align: right;\">\n",
       "      <th></th>\n",
       "      <th>Average score</th>\n",
       "      <th>Std</th>\n",
       "      <th>Median</th>\n",
       "      <th>Number of excellent ratings</th>\n",
       "      <th>Number of medium ratings</th>\n",
       "      <th>Number of low ratings</th>\n",
       "      <th>Number of reviews</th>\n",
       "      <th>Number of books</th>\n",
       "    </tr>\n",
       "    <tr>\n",
       "      <th>Cluster</th>\n",
       "      <th></th>\n",
       "      <th></th>\n",
       "      <th></th>\n",
       "      <th></th>\n",
       "      <th></th>\n",
       "      <th></th>\n",
       "      <th></th>\n",
       "      <th></th>\n",
       "    </tr>\n",
       "  </thead>\n",
       "  <tbody>\n",
       "    <tr>\n",
       "      <th>0</th>\n",
       "      <td>3.990928</td>\n",
       "      <td>0.682549</td>\n",
       "      <td>3.903157</td>\n",
       "      <td>4.0</td>\n",
       "      <td>2.0</td>\n",
       "      <td>0.0</td>\n",
       "      <td>7.0</td>\n",
       "      <td>1869</td>\n",
       "    </tr>\n",
       "    <tr>\n",
       "      <th>1</th>\n",
       "      <td>4.077497</td>\n",
       "      <td>1.124551</td>\n",
       "      <td>4.508424</td>\n",
       "      <td>15.0</td>\n",
       "      <td>2.0</td>\n",
       "      <td>2.0</td>\n",
       "      <td>21.0</td>\n",
       "      <td>831</td>\n",
       "    </tr>\n",
       "    <tr>\n",
       "      <th>2</th>\n",
       "      <td>2.705276</td>\n",
       "      <td>1.288639</td>\n",
       "      <td>2.455988</td>\n",
       "      <td>2.0</td>\n",
       "      <td>2.0</td>\n",
       "      <td>4.0</td>\n",
       "      <td>8.0</td>\n",
       "      <td>2931</td>\n",
       "    </tr>\n",
       "  </tbody>\n",
       "</table>\n",
       "</div>"
      ],
      "text/plain": [
       "         Average score       Std    Median  Number of excellent ratings  \\\n",
       "Cluster                                                                   \n",
       "0             3.990928  0.682549  3.903157                          4.0   \n",
       "1             4.077497  1.124551  4.508424                         15.0   \n",
       "2             2.705276  1.288639  2.455988                          2.0   \n",
       "\n",
       "         Number of medium ratings  Number of low ratings  Number of reviews  \\\n",
       "Cluster                                                                       \n",
       "0                             2.0                    0.0                7.0   \n",
       "1                             2.0                    2.0               21.0   \n",
       "2                             2.0                    4.0                8.0   \n",
       "\n",
       "         Number of books  \n",
       "Cluster                   \n",
       "0                   1869  \n",
       "1                    831  \n",
       "2                   2931  "
      ]
     },
     "metadata": {},
     "output_type": "display_data"
    }
   ],
   "source": [
    "# Segmentation metrics\n",
    "print(\"Metrics of k-means clustering, euclidean distance :\")\n",
    "displaySegmentationMetrics(dfXStratified.copy(), KMeansEuclideanLabelsStrat)\n",
    "\n",
    "print(\"Metrics of k-means clustering, cosine similarity :\")\n",
    "displaySegmentationMetrics(dfXStratified.copy(), KMeansCosineLabelsStrat)"
   ]
  },
  {
   "cell_type": "markdown",
   "metadata": {},
   "source": [
    "### a.4) Spectral clustering"
   ]
  },
  {
   "cell_type": "code",
   "execution_count": 20,
   "metadata": {},
   "outputs": [
    {
     "data": {
      "image/png": "[encoded data removed]",
      "text/plain": [
       "<Figure size 1440x720 with 2 Axes>"
      ]
     },
     "metadata": {
      "needs_background": "light"
     },
     "output_type": "display_data"
    }
   ],
   "source": [
    "# Get spectral coordinates\n",
    "euclideanSpectralCoordStrat = spectralProjection(XStandStrat, 'euclidean')\n",
    "cosineSpectralCoordStrat = spectralProjection(XStandStrat, 'cosine')\n",
    "\n",
    "# Spectral clustering with kmeans and euclidean distance\n",
    "spectralEuclideanLabelsStrat = getKMeansLabels(euclideanSpectralCoordStrat, 3, euclidean_distance)\n",
    "\n",
    "# Spectral clustering with kmeans and cosine similarity\n",
    "spectralCosineLabelsStrat = getKMeansLabels(cosineSpectralCoordStrat, 3, cosine_similarity)\n",
    "\n",
    "# plot\n",
    "plotCluster(dfPCAStrat, spectralEuclideanLabelsStrat, dfPCAStrat, spectralCosineLabelsStrat, 'Spectral')"
   ]
  },
  {
   "cell_type": "code",
   "execution_count": 21,
   "metadata": {},
   "outputs": [
    {
     "name": "stdout",
     "output_type": "stream",
     "text": [
      "Metrics of spectral clustering, euclidean distance :\n"
     ]
    },
    {
     "data": {
      "text/html": [
       "<div>\n",
       "<style scoped>\n",
       "    .dataframe tbody tr th:only-of-type {\n",
       "        vertical-align: middle;\n",
       "    }\n",
       "\n",
       "    .dataframe tbody tr th {\n",
       "        vertical-align: top;\n",
       "    }\n",
       "\n",
       "    .dataframe thead th {\n",
       "        text-align: right;\n",
       "    }\n",
       "</style>\n",
       "<table border=\"1\" class=\"dataframe\">\n",
       "  <thead>\n",
       "    <tr style=\"text-align: right;\">\n",
       "      <th></th>\n",
       "      <th>Average score</th>\n",
       "      <th>Std</th>\n",
       "      <th>Median</th>\n",
       "      <th>Number of excellent ratings</th>\n",
       "      <th>Number of medium ratings</th>\n",
       "      <th>Number of low ratings</th>\n",
       "      <th>Number of reviews</th>\n",
       "      <th>Number of books</th>\n",
       "    </tr>\n",
       "    <tr>\n",
       "      <th>Cluster</th>\n",
       "      <th></th>\n",
       "      <th></th>\n",
       "      <th></th>\n",
       "      <th></th>\n",
       "      <th></th>\n",
       "      <th></th>\n",
       "      <th></th>\n",
       "      <th></th>\n",
       "    </tr>\n",
       "  </thead>\n",
       "  <tbody>\n",
       "    <tr>\n",
       "      <th>0</th>\n",
       "      <td>3.331905</td>\n",
       "      <td>1.062750</td>\n",
       "      <td>3.234358</td>\n",
       "      <td>3.0</td>\n",
       "      <td>2.0</td>\n",
       "      <td>2.0</td>\n",
       "      <td>8.0</td>\n",
       "      <td>5594</td>\n",
       "    </tr>\n",
       "    <tr>\n",
       "      <th>1</th>\n",
       "      <td>2.419686</td>\n",
       "      <td>1.583406</td>\n",
       "      <td>2.000000</td>\n",
       "      <td>990.0</td>\n",
       "      <td>350.0</td>\n",
       "      <td>2165.0</td>\n",
       "      <td>3505.0</td>\n",
       "      <td>1</td>\n",
       "    </tr>\n",
       "    <tr>\n",
       "      <th>2</th>\n",
       "      <td>3.764263</td>\n",
       "      <td>1.127264</td>\n",
       "      <td>4.027778</td>\n",
       "      <td>252.0</td>\n",
       "      <td>43.0</td>\n",
       "      <td>46.5</td>\n",
       "      <td>344.5</td>\n",
       "      <td>36</td>\n",
       "    </tr>\n",
       "  </tbody>\n",
       "</table>\n",
       "</div>"
      ],
      "text/plain": [
       "         Average score       Std    Median  Number of excellent ratings  \\\n",
       "Cluster                                                                   \n",
       "0             3.331905  1.062750  3.234358                          3.0   \n",
       "1             2.419686  1.583406  2.000000                        990.0   \n",
       "2             3.764263  1.127264  4.027778                        252.0   \n",
       "\n",
       "         Number of medium ratings  Number of low ratings  Number of reviews  \\\n",
       "Cluster                                                                       \n",
       "0                             2.0                    2.0                8.0   \n",
       "1                           350.0                 2165.0             3505.0   \n",
       "2                            43.0                   46.5              344.5   \n",
       "\n",
       "         Number of books  \n",
       "Cluster                   \n",
       "0                   5594  \n",
       "1                      1  \n",
       "2                     36  "
      ]
     },
     "metadata": {},
     "output_type": "display_data"
    },
    {
     "name": "stdout",
     "output_type": "stream",
     "text": [
      "Metrics of spectral clustering, cosine similarity :\n"
     ]
    },
    {
     "data": {
      "text/html": [
       "<div>\n",
       "<style scoped>\n",
       "    .dataframe tbody tr th:only-of-type {\n",
       "        vertical-align: middle;\n",
       "    }\n",
       "\n",
       "    .dataframe tbody tr th {\n",
       "        vertical-align: top;\n",
       "    }\n",
       "\n",
       "    .dataframe thead th {\n",
       "        text-align: right;\n",
       "    }\n",
       "</style>\n",
       "<table border=\"1\" class=\"dataframe\">\n",
       "  <thead>\n",
       "    <tr style=\"text-align: right;\">\n",
       "      <th></th>\n",
       "      <th>Average score</th>\n",
       "      <th>Std</th>\n",
       "      <th>Median</th>\n",
       "      <th>Number of excellent ratings</th>\n",
       "      <th>Number of medium ratings</th>\n",
       "      <th>Number of low ratings</th>\n",
       "      <th>Number of reviews</th>\n",
       "      <th>Number of books</th>\n",
       "    </tr>\n",
       "    <tr>\n",
       "      <th>Cluster</th>\n",
       "      <th></th>\n",
       "      <th></th>\n",
       "      <th></th>\n",
       "      <th></th>\n",
       "      <th></th>\n",
       "      <th></th>\n",
       "      <th></th>\n",
       "      <th></th>\n",
       "    </tr>\n",
       "  </thead>\n",
       "  <tbody>\n",
       "    <tr>\n",
       "      <th>0</th>\n",
       "      <td>3.297648</td>\n",
       "      <td>0.785094</td>\n",
       "      <td>2.963519</td>\n",
       "      <td>2.0</td>\n",
       "      <td>4.0</td>\n",
       "      <td>1.0</td>\n",
       "      <td>6.0</td>\n",
       "      <td>1165</td>\n",
       "    </tr>\n",
       "    <tr>\n",
       "      <th>1</th>\n",
       "      <td>2.705569</td>\n",
       "      <td>1.335343</td>\n",
       "      <td>2.451394</td>\n",
       "      <td>2.0</td>\n",
       "      <td>2.0</td>\n",
       "      <td>4.0</td>\n",
       "      <td>8.0</td>\n",
       "      <td>2726</td>\n",
       "    </tr>\n",
       "    <tr>\n",
       "      <th>2</th>\n",
       "      <td>4.344522</td>\n",
       "      <td>0.823223</td>\n",
       "      <td>4.658046</td>\n",
       "      <td>9.0</td>\n",
       "      <td>1.0</td>\n",
       "      <td>1.0</td>\n",
       "      <td>11.0</td>\n",
       "      <td>1740</td>\n",
       "    </tr>\n",
       "  </tbody>\n",
       "</table>\n",
       "</div>"
      ],
      "text/plain": [
       "         Average score       Std    Median  Number of excellent ratings  \\\n",
       "Cluster                                                                   \n",
       "0             3.297648  0.785094  2.963519                          2.0   \n",
       "1             2.705569  1.335343  2.451394                          2.0   \n",
       "2             4.344522  0.823223  4.658046                          9.0   \n",
       "\n",
       "         Number of medium ratings  Number of low ratings  Number of reviews  \\\n",
       "Cluster                                                                       \n",
       "0                             4.0                    1.0                6.0   \n",
       "1                             2.0                    4.0                8.0   \n",
       "2                             1.0                    1.0               11.0   \n",
       "\n",
       "         Number of books  \n",
       "Cluster                   \n",
       "0                   1165  \n",
       "1                   2726  \n",
       "2                   1740  "
      ]
     },
     "metadata": {},
     "output_type": "display_data"
    }
   ],
   "source": [
    "# Segmentation metrics\n",
    "print(\"Metrics of spectral clustering, euclidean distance :\")\n",
    "displaySegmentationMetrics(dfXStratified.copy(), spectralEuclideanLabelsStrat)\n",
    "\n",
    "print(\"Metrics of spectral clustering, cosine similarity :\")\n",
    "displaySegmentationMetrics(dfXStratified.copy(), spectralCosineLabelsStrat)"
   ]
  },
  {
   "cell_type": "markdown",
   "metadata": {},
   "source": [
    "### a.5) Clustering performance"
   ]
  },
  {
   "cell_type": "code",
   "execution_count": 22,
   "metadata": {},
   "outputs": [
    {
     "name": "stdout",
     "output_type": "stream",
     "text": [
      "Silhouette score:\n"
     ]
    },
    {
     "data": {
      "text/html": [
       "<style type=\"text/css\">\n",
       "</style>\n",
       "<table id=\"T_504e3\">\n",
       "  <thead>\n",
       "    <tr>\n",
       "      <th class=\"blank level0\" >&nbsp;</th>\n",
       "      <th id=\"T_504e3_level0_col0\" class=\"col_heading level0 col0\" >Euclidean</th>\n",
       "      <th id=\"T_504e3_level0_col1\" class=\"col_heading level0 col1\" >Cosine</th>\n",
       "    </tr>\n",
       "  </thead>\n",
       "  <tbody>\n",
       "    <tr>\n",
       "      <th id=\"T_504e3_level0_row0\" class=\"row_heading level0 row0\" >KMeans</th>\n",
       "      <td id=\"T_504e3_row0_col0\" class=\"data row0 col0\" >0.385249</td>\n",
       "      <td id=\"T_504e3_row0_col1\" class=\"data row0 col1\" >0.521808</td>\n",
       "    </tr>\n",
       "    <tr>\n",
       "      <th id=\"T_504e3_level0_row1\" class=\"row_heading level0 row1\" >Spectral</th>\n",
       "      <td id=\"T_504e3_row1_col0\" class=\"data row1 col0\" >0.935329</td>\n",
       "      <td id=\"T_504e3_row1_col1\" class=\"data row1 col1\" >0.768580</td>\n",
       "    </tr>\n",
       "  </tbody>\n",
       "</table>\n"
      ],
      "text/plain": [
       "<pandas.io.formats.style.Styler at 0x202b1435100>"
      ]
     },
     "execution_count": 22,
     "metadata": {},
     "output_type": "execute_result"
    }
   ],
   "source": [
    "# compute silhouette score\n",
    "XListStrat = [XStandStrat, XStandStrat, euclideanSpectralCoordStrat, cosineSpectralCoordStrat]\n",
    "silhouetteScoreTableStrat = getSilhouetteScore(XListStrat, KMeansEuclideanLabelsStrat, KMeansCosineLabelsStrat, \n",
    "                                               spectralEuclideanLabelsStrat, spectralCosineLabelsStrat)\n",
    "print(\"Silhouette score:\")\n",
    "silhouetteScoreTableStrat.style"
   ]
  },
  {
   "cell_type": "code",
   "execution_count": 23,
   "metadata": {},
   "outputs": [
    {
     "name": "stdout",
     "output_type": "stream",
     "text": [
      "Normalized Mutual Information:\n"
     ]
    },
    {
     "data": {
      "text/html": [
       "<style type=\"text/css\">\n",
       "</style>\n",
       "<table id=\"T_ea115\">\n",
       "  <thead>\n",
       "    <tr>\n",
       "      <th class=\"blank level0\" >&nbsp;</th>\n",
       "      <th id=\"T_ea115_level0_col0\" class=\"col_heading level0 col0\" >Euclidean</th>\n",
       "      <th id=\"T_ea115_level0_col1\" class=\"col_heading level0 col1\" >Cosine</th>\n",
       "    </tr>\n",
       "  </thead>\n",
       "  <tbody>\n",
       "    <tr>\n",
       "      <th id=\"T_ea115_level0_row0\" class=\"row_heading level0 row0\" >KMeans</th>\n",
       "      <td id=\"T_ea115_row0_col0\" class=\"data row0 col0\" >0.411507</td>\n",
       "      <td id=\"T_ea115_row0_col1\" class=\"data row0 col1\" >0.294113</td>\n",
       "    </tr>\n",
       "    <tr>\n",
       "      <th id=\"T_ea115_level0_row1\" class=\"row_heading level0 row1\" >Spectral</th>\n",
       "      <td id=\"T_ea115_row1_col0\" class=\"data row1 col0\" >0.007886</td>\n",
       "      <td id=\"T_ea115_row1_col1\" class=\"data row1 col1\" >0.445418</td>\n",
       "    </tr>\n",
       "  </tbody>\n",
       "</table>\n"
      ],
      "text/plain": [
       "<pandas.io.formats.style.Styler at 0x2021c894100>"
      ]
     },
     "execution_count": 23,
     "metadata": {},
     "output_type": "execute_result"
    }
   ],
   "source": [
    "# get labels\n",
    "trueLabelsStrat = getTrueLabels(dfXStratified, C, m, a, b)\n",
    "\n",
    "# compute NMI\n",
    "NMITableStrat = getNMI(trueLabelsStrat, KMeansEuclideanLabelsStrat, KMeansCosineLabelsStrat, \n",
    "                       spectralEuclideanLabelsStrat, spectralCosineLabelsStrat)\n",
    "print(\"Normalized Mutual Information:\")\n",
    "NMITableStrat.style"
   ]
  },
  {
   "cell_type": "code",
   "execution_count": null,
   "metadata": {},
   "outputs": [],
   "source": []
  }
 ],
 "metadata": {
  "kernelspec": {
   "display_name": "Python 3",
   "language": "python",
   "name": "python3"
  },
  "language_info": {
   "codemirror_mode": {
    "name": "ipython",
    "version": 3
   },
   "file_extension": ".py",
   "mimetype": "text/x-python",
   "name": "python",
   "nbconvert_exporter": "python",
   "pygments_lexer": "ipython3",
   "version": "3.9.5"
  },
  "vscode": {
   "interpreter": {
    "hash": "4ebca03ed28d4bdb2b83b823b912e255b5d9478816b5a777f9c36aa9107629df"
   }
  }
 },
 "nbformat": 4,
 "nbformat_minor": 2
}
